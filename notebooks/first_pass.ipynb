{
 "cells": [
  {
   "cell_type": "code",
   "execution_count": 1,
   "id": "wired-defensive",
   "metadata": {},
   "outputs": [],
   "source": [
    "%load_ext autoreload\n",
    "%autoreload 2\n",
    "%matplotlib inline"
   ]
  },
  {
   "cell_type": "code",
   "execution_count": 2,
   "id": "wrapped-programmer",
   "metadata": {},
   "outputs": [],
   "source": [
    "import numpy as np\n",
    "import matplotlib.pyplot as plt\n",
    "import sys\n",
    "import os"
   ]
  },
  {
   "cell_type": "code",
   "execution_count": 3,
   "id": "expected-bosnia",
   "metadata": {},
   "outputs": [],
   "source": [
    "sys.path.append(os.path.abspath(\"../\"))\n",
    "import pyhawkes"
   ]
  },
  {
   "cell_type": "code",
   "execution_count": 4,
   "id": "muslim-northwest",
   "metadata": {},
   "outputs": [],
   "source": [
    "from pyhawkes.models import DiscreteTimeNetworkHawkesModelSpikeAndSlab"
   ]
  },
  {
   "cell_type": "code",
   "execution_count": 9,
   "id": "technological-closure",
   "metadata": {},
   "outputs": [],
   "source": [
    "K = 3\n",
    "p = 0.25\n",
    "dt_max = 20\n",
    "network_hypers = {\"p\": p, \"allow_self_connections\": False}\n",
    "true_model = DiscreteTimeNetworkHawkesModelSpikeAndSlab(\n",
    "    K=K, dt_max=dt_max, network_hypers=network_hypers)\n",
    "\n",
    "# Generate T time bins of events from the the model\n",
    "# S is the TxK event count matrix, R is the TxK rate matrix\n",
    "S,R = true_model.generate(T=100)"
   ]
  },
  {
   "cell_type": "code",
   "execution_count": 12,
   "id": "superior-paste",
   "metadata": {},
   "outputs": [],
   "source": [
    "#A: binary adjacency matrix (K x K), boolean\n",
    "#W: gamma weights (K x K)\n",
    "#g: self-exciting kernel (K x K x B); last dim (B) gives coefficients of convex combination\n",
    "#λ0: offset of background process (K)\n",
    "#p: sparsity of connectivity matrix \n",
    "#v: NOT SURE\n",
    "#W_eff: effective connectivity matrix (KxK), equal to A .* W\n",
    "#impulse_responses: (dt_max x K x K), the shape of the impulse response induced by node k in k'\n",
    "\n",
    "A, W, g, λ0, p, v = true_model.get_parameters()\n",
    "W_eff = true_model.W_effective\n",
    "impulse_responses = true_model.impulses"
   ]
  },
  {
   "cell_type": "code",
   "execution_count": 42,
   "id": "emerging-effects",
   "metadata": {},
   "outputs": [
    {
     "data": {
      "text/plain": [
       "<pyhawkes.utils.basis.CosineBasis at 0x1254a5550>"
      ]
     },
     "execution_count": 42,
     "metadata": {},
     "output_type": "execute_result"
    }
   ],
   "source": [
    "true_model.basis"
   ]
  },
  {
   "cell_type": "code",
   "execution_count": 38,
   "id": "permanent-delight",
   "metadata": {},
   "outputs": [
    {
     "data": {
      "text/plain": [
       "array([[0.06469488, 0.15453389, 0.10526427],\n",
       "       [0.41235504, 0.07277602, 0.46595882],\n",
       "       [0.06625381, 1.23726353, 0.03211341]])"
      ]
     },
     "execution_count": 38,
     "metadata": {},
     "output_type": "execute_result"
    }
   ],
   "source": [
    "W"
   ]
  },
  {
   "cell_type": "code",
   "execution_count": 35,
   "id": "special-lover",
   "metadata": {},
   "outputs": [
    {
     "data": {
      "text/plain": [
       "[<matplotlib.lines.Line2D at 0x125596e80>]"
      ]
     },
     "execution_count": 35,
     "metadata": {},
     "output_type": "execute_result"
    },
    {
     "data": {
      "image/png": "[encoded data removed]",
      "text/plain": [
       "<Figure size 432x288 with 1 Axes>"
      ]
     },
     "metadata": {
      "needs_background": "light"
     },
     "output_type": "display_data"
    }
   ],
   "source": [
    "plt.plot(impulse_responses[:,1,1])"
   ]
  },
  {
   "cell_type": "code",
   "execution_count": null,
   "id": "satisfied-second",
   "metadata": {},
   "outputs": [],
   "source": []
  }
 ],
 "metadata": {
  "kernelspec": {
   "display_name": "Python 3",
   "language": "python",
   "name": "python3"
  },
  "language_info": {
   "codemirror_mode": {
    "name": "ipython",
    "version": 3
   },
   "file_extension": ".py",
   "mimetype": "text/x-python",
   "name": "python",
   "nbconvert_exporter": "python",
   "pygments_lexer": "ipython3",
   "version": "3.7.3"
  }
 },
 "nbformat": 4,
 "nbformat_minor": 5
}
