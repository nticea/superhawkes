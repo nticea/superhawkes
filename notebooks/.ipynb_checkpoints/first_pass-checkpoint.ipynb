{
 "cells": [
  {
   "cell_type": "code",
   "execution_count": 14,
   "id": "korean-accordance",
   "metadata": {},
   "outputs": [
    {
     "name": "stdout",
     "output_type": "stream",
     "text": [
      "The autoreload extension is already loaded. To reload it, use:\n",
      "  %reload_ext autoreload\n"
     ]
    }
   ],
   "source": [
    "%load_ext autoreload\n",
    "%autoreload 2\n",
    "%matplotlib inline"
   ]
  },
  {
   "cell_type": "code",
   "execution_count": 15,
   "id": "sorted-illustration",
   "metadata": {},
   "outputs": [],
   "source": [
    "import numpy as np\n",
    "import matplotlib.pyplot as plt\n",
    "import sys\n",
    "import os"
   ]
  },
  {
   "cell_type": "code",
   "execution_count": 16,
   "id": "initial-underground",
   "metadata": {},
   "outputs": [],
   "source": [
    "sys.path.append(os.path.abspath(\"../\"))\n",
    "import pyhawkes"
   ]
  },
  {
   "cell_type": "code",
   "execution_count": 18,
   "id": "sweet-rochester",
   "metadata": {},
   "outputs": [],
   "source": [
    "from pyhawkes.models import DiscreteTimeNetworkHawkesModelSpikeAndSlab"
   ]
  },
  {
   "cell_type": "code",
   "execution_count": 25,
   "id": "adult-passage",
   "metadata": {},
   "outputs": [],
   "source": [
    "K = 3\n",
    "p = 0.25\n",
    "dt_max = 20\n",
    "network_hypers = {\"p\": p, \"allow_self_connections\": False}\n",
    "true_model = DiscreteTimeNetworkHawkesModelSpikeAndSlab(\n",
    "    K=K, dt_max=dt_max, network_hypers=network_hypers)\n",
    "\n",
    "# Generate T time bins of events from the the model\n",
    "# S is the TxK event count matrix, R is the TxK rate matrix\n",
    "S,R = true_model.generate(T=100)"
   ]
  },
  {
   "cell_type": "code",
   "execution_count": 24,
   "id": "searching-centre",
   "metadata": {},
   "outputs": [
    {
     "data": {
      "text/plain": [
       "(100, 3)"
      ]
     },
     "execution_count": 24,
     "metadata": {},
     "output_type": "execute_result"
    }
   ],
   "source": [
    "S.shape"
   ]
  },
  {
   "cell_type": "code",
   "execution_count": null,
   "id": "helpful-video",
   "metadata": {},
   "outputs": [],
   "source": []
  }
 ],
 "metadata": {
  "kernelspec": {
   "display_name": "Python 3",
   "language": "python",
   "name": "python3"
  },
  "language_info": {
   "codemirror_mode": {
    "name": "ipython",
    "version": 3
   },
   "file_extension": ".py",
   "mimetype": "text/x-python",
   "name": "python",
   "nbconvert_exporter": "python",
   "pygments_lexer": "ipython3",
   "version": "3.7.3"
  }
 },
 "nbformat": 4,
 "nbformat_minor": 5
}
